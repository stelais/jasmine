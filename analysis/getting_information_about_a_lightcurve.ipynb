{
 "cells": [
  {
   "cell_type": "code",
   "id": "initial_id",
   "metadata": {
    "collapsed": true,
    "ExecuteTime": {
     "end_time": "2024-05-07T21:00:17.997508Z",
     "start_time": "2024-05-07T21:00:17.993673Z"
    }
   },
   "source": "from jasmine import LightcurveEventDataChallenge",
   "execution_count": 2,
   "outputs": []
  },
  {
   "metadata": {},
   "cell_type": "markdown",
   "source": "# How to use the lightcurve class",
   "id": "6ed686098dd2049b"
  },
  {
   "metadata": {},
   "cell_type": "markdown",
   "source": "## 1. Binary Star",
   "id": "c9de03e7016ea3c5"
  },
  {
   "metadata": {
    "ExecuteTime": {
     "end_time": "2024-05-07T21:00:18.056313Z",
     "start_time": "2024-05-07T21:00:18.000491Z"
    }
   },
   "cell_type": "code",
   "source": [
    "# Call the lightcurve class\n",
    "# Binary star\n",
    "the_lightcurve = LightcurveEventDataChallenge(2)"
   ],
   "id": "ecf60af598dc48e8",
   "execution_count": 3,
   "outputs": []
  },
  {
   "metadata": {
    "ExecuteTime": {
     "end_time": "2024-05-07T21:00:18.074305Z",
     "start_time": "2024-05-07T21:00:18.062431Z"
    }
   },
   "cell_type": "code",
   "source": [
    "# See what are the available attributes\n",
    "vars(the_lightcurve).keys()"
   ],
   "id": "877d37d4cf371404",
   "execution_count": 4,
   "outputs": []
  },
  {
   "metadata": {
    "ExecuteTime": {
     "end_time": "2024-05-07T21:00:18.083736Z",
     "start_time": "2024-05-07T21:00:18.077069Z"
    }
   },
   "cell_type": "code",
   "source": "the_lightcurve.lens",
   "id": "c1186ebd2fc76397",
   "execution_count": 5,
   "outputs": []
  },
  {
   "metadata": {
    "ExecuteTime": {
     "end_time": "2024-05-07T21:00:18.093877Z",
     "start_time": "2024-05-07T21:00:18.086881Z"
    }
   },
   "cell_type": "code",
   "source": [
    "# Get info from that\n",
    "the_lightcurve.lens.lens_system_mass__msun"
   ],
   "id": "ce1bfc49a1d9b22c",
   "execution_count": 6,
   "outputs": []
  },
  {
   "metadata": {
    "ExecuteTime": {
     "end_time": "2024-05-07T21:00:18.147300Z",
     "start_time": "2024-05-07T21:00:18.096298Z"
    }
   },
   "cell_type": "code",
   "source": [
    "# Get the lightcurve\n",
    "lightcurve_datapoints = the_lightcurve.lightcurve_data(filter_='W149', folder_path_='../data')\n",
    "lightcurve_datapoints"
   ],
   "id": "b0857d95e8bbacf2",
   "execution_count": 7,
   "outputs": []
  },
  {
   "metadata": {
    "ExecuteTime": {
     "end_time": "2024-05-07T21:00:19.529754Z",
     "start_time": "2024-05-07T21:00:18.150166Z"
    }
   },
   "cell_type": "code",
   "source": [
    "# plotting\n",
    "import matplotlib.pyplot as plt\n",
    "plt.plot(lightcurve_datapoints['days'], lightcurve_datapoints['Magnitude'], 'o')\n",
    "plt.gca().invert_yaxis()"
   ],
   "id": "df0a4513e5421f08",
   "execution_count": 8,
   "outputs": []
  },
  {
   "metadata": {},
   "cell_type": "markdown",
   "source": "## 2. Bound Planet",
   "id": "ff0939b86719be77"
  },
  {
   "metadata": {
    "ExecuteTime": {
     "end_time": "2024-05-07T21:00:19.570080Z",
     "start_time": "2024-05-07T21:00:19.531996Z"
    }
   },
   "cell_type": "code",
   "source": [
    "# Same as binary\n",
    "the_lightcurve = LightcurveEventDataChallenge(4)"
   ],
   "id": "b6edf62c6215fd99",
   "execution_count": 9,
   "outputs": []
  },
  {
   "metadata": {
    "ExecuteTime": {
     "end_time": "2024-05-07T21:00:19.580820Z",
     "start_time": "2024-05-07T21:00:19.575813Z"
    }
   },
   "cell_type": "code",
   "source": [
    "# See what are the available attributes\n",
    "vars(the_lightcurve).keys()"
   ],
   "id": "d9f3c66f9295b684",
   "execution_count": 10,
   "outputs": []
  },
  {
   "metadata": {
    "ExecuteTime": {
     "end_time": "2024-05-07T21:00:19.588817Z",
     "start_time": "2024-05-07T21:00:19.582766Z"
    }
   },
   "cell_type": "code",
   "source": "the_lightcurve.planet",
   "id": "d8300ce1a197a249",
   "execution_count": 11,
   "outputs": []
  },
  {
   "metadata": {
    "ExecuteTime": {
     "end_time": "2024-05-07T21:00:19.598718Z",
     "start_time": "2024-05-07T21:00:19.591321Z"
    }
   },
   "cell_type": "code",
   "source": "the_lightcurve.planet.planet_separation",
   "id": "319914bea655872",
   "execution_count": 12,
   "outputs": []
  },
  {
   "metadata": {
    "ExecuteTime": {
     "end_time": "2024-05-07T21:00:19.632702Z",
     "start_time": "2024-05-07T21:00:19.600829Z"
    }
   },
   "cell_type": "code",
   "source": "lightcurve_datapoints = the_lightcurve.lightcurve_data(filter_='W149', folder_path_='../data')",
   "id": "8adb99cf960b9b3",
   "execution_count": 13,
   "outputs": []
  },
  {
   "metadata": {
    "ExecuteTime": {
     "end_time": "2024-05-07T21:00:20.035734Z",
     "start_time": "2024-05-07T21:00:19.635096Z"
    }
   },
   "cell_type": "code",
   "source": [
    "plt.plot(lightcurve_datapoints['days'], lightcurve_datapoints['Magnitude'], 'o')\n",
    "plt.gca().invert_yaxis()"
   ],
   "id": "a5f1618618d09383",
   "execution_count": 14,
   "outputs": []
  },
  {
   "metadata": {},
   "cell_type": "markdown",
   "source": "## 3. Single lens",
   "id": "c49536fc1b5488e0"
  },
  {
   "metadata": {
    "ExecuteTime": {
     "end_time": "2024-05-07T21:00:20.078296Z",
     "start_time": "2024-05-07T21:00:20.038266Z"
    }
   },
   "cell_type": "code",
   "source": "the_lightcurve = LightcurveEventDataChallenge(5)",
   "id": "52641d96cd8cf6b3",
   "execution_count": 15,
   "outputs": []
  },
  {
   "metadata": {
    "ExecuteTime": {
     "end_time": "2024-05-07T21:00:20.086691Z",
     "start_time": "2024-05-07T21:00:20.080682Z"
    }
   },
   "cell_type": "code",
   "source": [
    "# See what are the available attributes\n",
    "vars(the_lightcurve).keys()"
   ],
   "id": "3902028f2d9a776c",
   "execution_count": 16,
   "outputs": []
  },
  {
   "metadata": {
    "ExecuteTime": {
     "end_time": "2024-05-07T21:00:20.095146Z",
     "start_time": "2024-05-07T21:00:20.089192Z"
    }
   },
   "cell_type": "code",
   "source": "the_lightcurve.event_info\n",
   "id": "8ce7963131488262",
   "execution_count": 17,
   "outputs": []
  },
  {
   "metadata": {
    "ExecuteTime": {
     "end_time": "2024-05-07T21:00:20.126394Z",
     "start_time": "2024-05-07T21:00:20.098106Z"
    }
   },
   "cell_type": "code",
   "source": "lightcurve_datapoints = the_lightcurve.lightcurve_data(filter_='W149', folder_path_='../data')",
   "id": "401e29e6c6ba90a7",
   "execution_count": 18,
   "outputs": []
  },
  {
   "metadata": {
    "ExecuteTime": {
     "end_time": "2024-05-07T21:00:20.542769Z",
     "start_time": "2024-05-07T21:00:20.127929Z"
    }
   },
   "cell_type": "code",
   "source": [
    "plt.plot(lightcurve_datapoints['days'], lightcurve_datapoints['Magnitude'], 'o')\n",
    "plt.gca().invert_yaxis()"
   ],
   "id": "eaca8c2d2736ee22",
   "execution_count": 19,
   "outputs": []
  },
  {
   "metadata": {},
   "cell_type": "markdown",
   "source": "## 4.Cataclysmic variables",
   "id": "857609d12bb4f192"
  },
  {
   "metadata": {
    "ExecuteTime": {
     "end_time": "2024-05-07T21:00:20.577821Z",
     "start_time": "2024-05-07T21:00:20.544836Z"
    }
   },
   "cell_type": "code",
   "source": "the_lightcurve = LightcurveEventDataChallenge(1)",
   "id": "1436841d5e7315e3",
   "execution_count": 20,
   "outputs": []
  },
  {
   "metadata": {
    "ExecuteTime": {
     "end_time": "2024-05-07T21:00:20.585686Z",
     "start_time": "2024-05-07T21:00:20.579878Z"
    }
   },
   "cell_type": "code",
   "source": [
    "# See what are the available attributes\n",
    "vars(the_lightcurve).keys()"
   ],
   "id": "e000450ac166c9de",
   "execution_count": 21,
   "outputs": []
  },
  {
   "metadata": {
    "ExecuteTime": {
     "end_time": "2024-05-07T21:00:20.593918Z",
     "start_time": "2024-05-07T21:00:20.587878Z"
    }
   },
   "cell_type": "code",
   "source": "the_lightcurve.source",
   "id": "9b7512bba8201d71",
   "execution_count": 22,
   "outputs": []
  },
  {
   "metadata": {
    "ExecuteTime": {
     "end_time": "2024-05-07T21:00:21.012804Z",
     "start_time": "2024-05-07T21:00:20.596737Z"
    }
   },
   "cell_type": "code",
   "source": [
    "lightcurve_datapoints = the_lightcurve.lightcurve_data(filter_='W149', folder_path_='../data')\n",
    "plt.plot(lightcurve_datapoints['days'], lightcurve_datapoints['Magnitude'], 'o')\n",
    "plt.gca().invert_yaxis()"
   ],
   "id": "eb2f2ed162014e06",
   "execution_count": 23,
   "outputs": []
  }
 ],
 "metadata": {
  "kernelspec": {
   "display_name": "Python (jasmine_env)",
   "language": "python",
   "name": "jasmine_env"
  },
  "language_info": {
   "codemirror_mode": {
    "name": "ipython",
    "version": 2
   },
   "file_extension": ".py",
   "mimetype": "text/x-python",
   "name": "python",
   "nbconvert_exporter": "python",
   "pygments_lexer": "ipython2",
   "version": "2.7.6"
  }
 },
 "nbformat": 4,
 "nbformat_minor": 5
}
