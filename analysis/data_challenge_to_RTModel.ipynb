{
 "cells": [
  {
   "metadata": {},
   "cell_type": "markdown",
   "source": "# Preparing your data for the RTModel",
   "id": "2dc6a9fa836371f2"
  },
  {
   "metadata": {
    "ExecuteTime": {
     "end_time": "2024-05-07T23:16:25.627463Z",
     "start_time": "2024-05-07T23:16:16.286187Z"
    }
   },
   "cell_type": "code",
   "source": "import jasmine.files_organizer.data_challenge_to_RTModel as dc2rtm",
   "id": "ba9f84fa67b14814",
   "execution_count": 1,
   "outputs": []
  },
  {
   "metadata": {},
   "cell_type": "code",
   "execution_count": null,
   "source": [
    "# Which light curve?\n",
    "data_challenge_lc_number = 4\n",
    "# Path for the folder you want to create your RTModel folder\n",
    "folder_to_be_created = '[YOUR PATH]/RTModel/datachallenge_events'\n",
    "# Path for the folder where the data is stored\n",
    "input_folder = '[YOUR PATH]/data'\n",
    "\n",
    "dc2rtm.creating_directories(data_challenge_lc_number_=data_challenge_lc_number,\n",
    "                     folder_path_=folder_to_be_created)\n",
    "dc2rtm.creating_files(data_challenge_lc_number_=data_challenge_lc_number,\n",
    "               output_folder_path_=folder_to_be_created,\n",
    "               master_input_folder_path_=input_folder,\n",
    "               data_input_folder_path_=input_folder)"
   ],
   "id": "ff4d5e9af1cd8e61",
   "outputs": []
  }
 ],
 "metadata": {
  "kernelspec": {
   "display_name": "Python 3",
   "language": "python",
   "name": "python3"
  },
  "language_info": {
   "codemirror_mode": {
    "name": "ipython",
    "version": 2
   },
   "file_extension": ".py",
   "mimetype": "text/x-python",
   "name": "python",
   "nbconvert_exporter": "python",
   "pygments_lexer": "ipython2",
   "version": "2.7.6"
  }
 },
 "nbformat": 4,
 "nbformat_minor": 5
}
