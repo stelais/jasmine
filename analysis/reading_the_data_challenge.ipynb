{
 "cells": [
  {
   "metadata": {},
   "cell_type": "markdown",
   "source": "# Data Challenge Reader",
   "id": "7728f37da154dfd0"
  },
  {
   "metadata": {
    "ExecuteTime": {
     "end_time": "2024-05-07T21:00:38.185463Z",
     "start_time": "2024-05-07T21:00:36.935016Z"
    }
   },
   "cell_type": "code",
   "source": [
    "import jasmine.classes_and_files_reader.datachallenge_reader as dcr\n",
    "import numpy as np\n",
    "import matplotlib.pyplot as plt\n",
    "%matplotlib inline"
   ],
   "id": "18d087b18238cd5c",
   "execution_count": 1,
   "outputs": []
  },
  {
   "metadata": {
    "ExecuteTime": {
     "end_time": "2024-05-07T21:00:38.193588Z",
     "start_time": "2024-05-07T21:00:38.189497Z"
    }
   },
   "cell_type": "code",
   "source": [
    "# set where your master files are\n",
    "binary_star_master_path='../data/binary_star.csv'\n",
    "bound_planet_master_path='../data/bound_planet.csv'\n",
    "cataclysmic_variables_master_path='../data/cataclysmic_variables.csv'\n",
    "single_lens_master_path='../data/single_lens.csv'"
   ],
   "id": "78c7ee7606d9810d",
   "execution_count": 2,
   "outputs": []
  },
  {
   "metadata": {},
   "cell_type": "markdown",
   "source": "## Getting the event type of lightcurve",
   "id": "1571b9064fef64b5"
  },
  {
   "metadata": {
    "ExecuteTime": {
     "end_time": "2024-05-07T21:00:38.226891Z",
     "start_time": "2024-05-07T21:00:38.195346Z"
    }
   },
   "cell_type": "code",
   "source": [
    "# get the type of lightcurve\n",
    "lc_type = dcr.what_type_of_lightcurve(2, \n",
    "                                      binary_star_path_=binary_star_master_path,\n",
    "                                      bound_planet_path_=bound_planet_master_path,\n",
    "                                      cataclysmic_variables_path_=cataclysmic_variables_master_path,\n",
    "                                      single_lens_path_=single_lens_master_path)"
   ],
   "id": "ecde45d13de99ce9",
   "execution_count": 3,
   "outputs": []
  },
  {
   "metadata": {
    "ExecuteTime": {
     "end_time": "2024-05-07T21:00:38.235927Z",
     "start_time": "2024-05-07T21:00:38.228985Z"
    }
   },
   "cell_type": "code",
   "source": "lc_type",
   "id": "18bc85a8c99a7337",
   "execution_count": 4,
   "outputs": []
  },
  {
   "metadata": {},
   "cell_type": "markdown",
   "source": "## Reading each of the four master files",
   "id": "d1c4ea2262f6064"
  },
  {
   "metadata": {
    "ExecuteTime": {
     "end_time": "2024-05-07T21:00:38.264536Z",
     "start_time": "2024-05-07T21:00:38.241396Z"
    }
   },
   "cell_type": "code",
   "source": [
    "# read the master files\n",
    "binary_star_master_df = dcr.binary_star_master_reader(binary_star_master_path)\n",
    "bound_planet_master_df = dcr.bound_planet_master_reader(bound_planet_master_path)\n",
    "cataclysmic_variables_master_df = dcr.cataclysmic_variables_master_reader(cataclysmic_variables_master_path)\n",
    "single_lens_master_df = dcr.single_lens_master_reader(single_lens_master_path)"
   ],
   "id": "a559275ca7c88450",
   "execution_count": 5,
   "outputs": []
  },
  {
   "metadata": {
    "ExecuteTime": {
     "end_time": "2024-05-07T21:00:38.291200Z",
     "start_time": "2024-05-07T21:00:38.266612Z"
    }
   },
   "cell_type": "code",
   "source": [
    "# Example of one of the master files\n",
    "binary_star_master_df.head()"
   ],
   "id": "a89984a6b3be8dcc",
   "execution_count": 6,
   "outputs": []
  },
  {
   "metadata": {},
   "cell_type": "markdown",
   "source": "## Reading the lightcurve data",
   "id": "b068bbe804af0fb9"
  },
  {
   "metadata": {
    "ExecuteTime": {
     "end_time": "2024-05-07T21:00:38.328303Z",
     "start_time": "2024-05-07T21:00:38.292823Z"
    }
   },
   "cell_type": "code",
   "source": [
    "lightcurve_5_df = dcr.lightcurve_data_reader(data_challenge_lc_number_=5, folder_path_='../data')\n",
    "lightcurve_5_df"
   ],
   "id": "840393e549ea9828",
   "execution_count": 7,
   "outputs": []
  },
  {
   "metadata": {
    "ExecuteTime": {
     "end_time": "2024-05-07T21:00:38.770185Z",
     "start_time": "2024-05-07T21:00:38.329955Z"
    }
   },
   "cell_type": "code",
   "source": [
    "plt.plot(lightcurve_5_df['days'], lightcurve_5_df['Magnitude'], 'o')\n",
    "plt.gca().invert_yaxis()"
   ],
   "id": "d45e8334fcc97702",
   "execution_count": 8,
   "outputs": []
  },
  {
   "metadata": {},
   "cell_type": "markdown",
   "source": "## Extracting values from the master file ",
   "id": "cdf234c461e246d2"
  },
  {
   "metadata": {
    "ExecuteTime": {
     "end_time": "2024-05-07T21:00:38.778248Z",
     "start_time": "2024-05-07T21:00:38.772338Z"
    }
   },
   "cell_type": "code",
   "source": [
    "# Simple PSPL (Single-Lens) example\n",
    "# LC 5 is a single lens event\n",
    "\n",
    "lightcurve_5_master = single_lens_master_df[single_lens_master_df['data_challenge_lc_number'] == 5]\n",
    "t_0 = lightcurve_5_master['t0'].values[0]\n",
    "t_0 = np.nanmin(lightcurve_5_df['days']) + t_0 # correction for the minimum\n",
    "t_e = lightcurve_5_master['tE'].values[0]\n",
    "u_0 = lightcurve_5_master['u0'].values[0]"
   ],
   "id": "16893d7d402672b0",
   "execution_count": 9,
   "outputs": []
  },
  {
   "metadata": {
    "ExecuteTime": {
     "end_time": "2024-05-07T21:00:38.801346Z",
     "start_time": "2024-05-07T21:00:38.780099Z"
    }
   },
   "cell_type": "code",
   "source": "lightcurve_5_master",
   "id": "2bc78740297fb027",
   "execution_count": 10,
   "outputs": []
  }
 ],
 "metadata": {
  "kernelspec": {
   "display_name": "Python (jasmine_env)",
   "language": "python",
   "name": "jasmine_env"
  },
  "language_info": {
   "codemirror_mode": {
    "name": "ipython",
    "version": 2
   },
   "file_extension": ".py",
   "mimetype": "text/x-python",
   "name": "python",
   "nbconvert_exporter": "python",
   "pygments_lexer": "ipython2",
   "version": "2.7.6"
  }
 },
 "nbformat": 4,
 "nbformat_minor": 5
}
