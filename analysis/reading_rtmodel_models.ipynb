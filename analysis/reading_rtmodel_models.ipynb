{
 "cells": [
  {
   "metadata": {
    "ExecuteTime": {
     "end_time": "2024-05-25T11:45:11.403232Z",
     "start_time": "2024-05-25T11:45:11.237114Z"
    }
   },
   "cell_type": "code",
   "source": "from jasmine import ModelResults",
   "id": "80a02cf8032c29ae",
   "outputs": [],
   "execution_count": 1
  },
  {
   "cell_type": "code",
   "id": "initial_id",
   "metadata": {
    "collapsed": true,
    "ExecuteTime": {
     "end_time": "2024-05-25T11:45:11.409946Z",
     "start_time": "2024-05-25T11:45:11.406691Z"
    }
   },
   "source": "model = ModelResults(file_to_be_read='/Users/stela/Documents/Scripts/RTModel_project/RTModel/events/event001/FinalModels/LX0000-1.txt')",
   "outputs": [],
   "execution_count": 2
  },
  {
   "metadata": {
    "ExecuteTime": {
     "end_time": "2024-05-25T11:45:11.416762Z",
     "start_time": "2024-05-25T11:45:11.411319Z"
    }
   },
   "cell_type": "code",
   "source": "model.model_type, model.model_extensive_name",
   "id": "9b551ed1f97c6b17",
   "outputs": [
    {
     "data": {
      "text/plain": [
       "('LX', 'Binary Lens Single Source with Parallax (2L1S+plx)')"
      ]
     },
     "execution_count": 3,
     "metadata": {},
     "output_type": "execute_result"
    }
   ],
   "execution_count": 3
  },
  {
   "metadata": {
    "ExecuteTime": {
     "end_time": "2024-05-25T11:45:11.422496Z",
     "start_time": "2024-05-25T11:45:11.418364Z"
    }
   },
   "cell_type": "code",
   "source": "model.model_parameters",
   "id": "6c1886dc2591c6e9",
   "outputs": [
    {
     "data": {
      "text/plain": [
       "BinaryLensSingleSourceWithParallaxLX(separation=1.347764542711023, mass_ratio=0.11103948533359635, u0=0.07788691429464381, alpha=2.7824560212978495, rho=0.00423266215492666, tE=6.769174390272482, t0=8551.15081258185, piN=-2.999931773203957, piE=0.02309463131160837)"
      ]
     },
     "execution_count": 4,
     "metadata": {},
     "output_type": "execute_result"
    }
   ],
   "execution_count": 4
  }
 ],
 "metadata": {
  "kernelspec": {
   "display_name": "Python 3",
   "language": "python",
   "name": "python3"
  },
  "language_info": {
   "codemirror_mode": {
    "name": "ipython",
    "version": 2
   },
   "file_extension": ".py",
   "mimetype": "text/x-python",
   "name": "python",
   "nbconvert_exporter": "python",
   "pygments_lexer": "ipython2",
   "version": "2.7.6"
  }
 },
 "nbformat": 4,
 "nbformat_minor": 5
}
